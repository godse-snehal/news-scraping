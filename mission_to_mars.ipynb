{
 "cells": [
  {
   "cell_type": "code",
   "execution_count": null,
   "metadata": {},
   "outputs": [],
   "source": [
    "# Dependencies\n",
    "import requests\n",
    "import pandas as pd\n",
    "from splinter import Browser\n",
    "from bs4 import BeautifulSoup as bs"
   ]
  },
  {
   "cell_type": "code",
   "execution_count": null,
   "metadata": {},
   "outputs": [],
   "source": [
    "executable_path = {'executable_path': '/usr/local/bin/chromedriver'}\n",
    "browser = Browser('chrome', **executable_path, headless=False)"
   ]
  },
  {
   "cell_type": "code",
   "execution_count": null,
   "metadata": {},
   "outputs": [],
   "source": [
    "# Create soup and browser objects\n",
    "def browser_setup(url):\n",
    "    browser.visit(url)\n",
    "    html = browser.html\n",
    "    soup = bs(html, 'html.parser')\n",
    "    return soup"
   ]
  },
  {
   "cell_type": "code",
   "execution_count": null,
   "metadata": {},
   "outputs": [],
   "source": [
    "# Mars news webpage setup\n",
    "soup = browser_setup(\"https://mars.nasa.gov/news/?page=0&per_page=40&order=publish_date+desc%2Ccreated_at+desc&search=&category=19%2C165%2C184%2C204&blank_scope=Latest\")"
   ]
  },
  {
   "cell_type": "code",
   "execution_count": null,
   "metadata": {},
   "outputs": [],
   "source": [
    "# Search for the title and paragraph of most recent news\n",
    "news_title_div = soup.find(class_=\"content_title\")\n",
    "news_title = news_title_div.find('a').text\n",
    "news_p = soup.find(class_=\"article_teaser_body\").text\n",
    "\n",
    "print(f\"{news_title}\\n{news_p}\")"
   ]
  },
  {
   "cell_type": "code",
   "execution_count": null,
   "metadata": {},
   "outputs": [],
   "source": [
    "# Mars images webpage setup\n",
    "base_url=\"https://www.jpl.nasa.gov\"\n",
    "soup = browser_setup(base_url + \"/spaceimages/?search=&category=Mars\")"
   ]
  },
  {
   "cell_type": "code",
   "execution_count": null,
   "metadata": {},
   "outputs": [],
   "source": [
    "# Search for current featured image\n",
    "featured_image = soup.find(class_=\"carousel_container\")\n",
    "featured_image_a = featured_image.find('a')\n",
    "featured_image_url = base_url + featured_image_a.get('data-fancybox-href')\n",
    "\n",
    "print(featured_image_url)"
   ]
  },
  {
   "cell_type": "code",
   "execution_count": null,
   "metadata": {},
   "outputs": [],
   "source": [
    "# Mars weather from twitter setup\n",
    "soup = browser_setup(\"https://twitter.com/marswxreport?lang=en\")"
   ]
  },
  {
   "cell_type": "code",
   "execution_count": null,
   "metadata": {},
   "outputs": [],
   "source": [
    "# Search for recent weather update\n",
    "weather_info_div = soup.find(class_=\"js-stream-tweet\")\n",
    "\n",
    "if(weather_info_div.get('data-name') == \"Mars Weather\"):\n",
    "    mars_weather = soup.find('p', class_=\"TweetTextSize\").text\n",
    "\n",
    "print(mars_weather)"
   ]
  },
  {
   "cell_type": "code",
   "execution_count": null,
   "metadata": {},
   "outputs": [],
   "source": [
    "# Mars facts using Pandas\n",
    "url = \"https://space-facts.com/mars/\"\n",
    "tables = pd.read_html(url)\n",
    "tables"
   ]
  },
  {
   "cell_type": "code",
   "execution_count": null,
   "metadata": {},
   "outputs": [],
   "source": [
    "# Create a dataframe from tables\n",
    "facts_df = tables[1]\n",
    "facts_df.columns = [\"description\", \"value\"]\n",
    "facts_df.set_index(\"description\", inplace=True)\n",
    "facts_html_string = facts_df.to_html(justify=\"left\")"
   ]
  },
  {
   "cell_type": "code",
   "execution_count": null,
   "metadata": {},
   "outputs": [],
   "source": [
    "def get_facts_info(soup):\n",
    "    # Get image URL\n",
    "    downloads = soup.find(class_=\"downloads\")\n",
    "    downloads_link = downloads.find(\"li\").find(\"a\")\n",
    "    img_url = downloads_link.get(\"href\")\n",
    "\n",
    "    # Get hemisphere title\n",
    "    title = soup.find(class_=\"content\").find(class_=\"title\").text\n",
    "    \n",
    "    # Create dict object\n",
    "    d = {}\n",
    "    d[\"title\"] = title\n",
    "    d[\"img_url\"] = img_url\n",
    "    \n",
    "    return d\n"
   ]
  },
  {
   "cell_type": "code",
   "execution_count": null,
   "metadata": {},
   "outputs": [],
   "source": [
    "# Initialize dict list for images\n",
    "hemisphere_image_urls = []"
   ]
  },
  {
   "cell_type": "code",
   "execution_count": null,
   "metadata": {},
   "outputs": [],
   "source": [
    "# Cerebrus setup\n",
    "soup = browser_setup(\"https://astrogeology.usgs.gov/search/map/Mars/Viking/cerberus_enhanced\")\n",
    "# Get image\n",
    "image_dict = get_facts_info(soup)\n",
    "# Add to dictionary list\n",
    "hemisphere_image_urls.append(image_dict)"
   ]
  },
  {
   "cell_type": "code",
   "execution_count": null,
   "metadata": {},
   "outputs": [],
   "source": [
    "# Schiaparelli setup\n",
    "soup = browser_setup(\"https://astrogeology.usgs.gov/search/map/Mars/Viking/schiaparelli_enhanced\")\n",
    "# Get image\n",
    "image_dict = get_facts_info(soup)\n",
    "# Add to dictionary list\n",
    "hemisphere_image_urls.append(image_dict)"
   ]
  },
  {
   "cell_type": "code",
   "execution_count": null,
   "metadata": {},
   "outputs": [],
   "source": [
    "# Syrtis Major setup\n",
    "soup = browser_setup(\"https://astrogeology.usgs.gov/search/map/Mars/Viking/syrtis_major_enhanced\")\n",
    "# Get image\n",
    "image_dict = get_facts_info(soup)\n",
    "# Add to dictionary list\n",
    "hemisphere_image_urls.append(image_dict)"
   ]
  },
  {
   "cell_type": "code",
   "execution_count": null,
   "metadata": {},
   "outputs": [],
   "source": [
    "# Valles Marineris setup\n",
    "soup = browser_setup(\"https://astrogeology.usgs.gov/search/map/Mars/Viking/valles_marineris_enhanced\")\n",
    "# Get image\n",
    "image_dict = get_facts_info(soup)\n",
    "# Add to dictionary list\n",
    "hemisphere_image_urls.append(image_dict)"
   ]
  },
  {
   "cell_type": "code",
   "execution_count": null,
   "metadata": {},
   "outputs": [],
   "source": [
    "# Display dictionary list\n",
    "print(hemisphere_image_urls)"
   ]
  }
 ],
 "metadata": {
  "kernelspec": {
   "display_name": "Python 3",
   "language": "python",
   "name": "python3"
  },
  "language_info": {
   "codemirror_mode": {
    "name": "ipython",
    "version": 3
   },
   "file_extension": ".py",
   "mimetype": "text/x-python",
   "name": "python",
   "nbconvert_exporter": "python",
   "pygments_lexer": "ipython3",
   "version": "3.7.3"
  }
 },
 "nbformat": 4,
 "nbformat_minor": 2
}
